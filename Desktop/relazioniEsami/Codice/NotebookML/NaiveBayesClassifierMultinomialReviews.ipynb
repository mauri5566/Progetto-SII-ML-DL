{
 "cells": [
  {
   "cell_type": "code",
   "execution_count": 1,
   "id": "02fae412",
   "metadata": {},
   "outputs": [],
   "source": [
    "import pandas as pd \n",
    "import re \n",
    "import string \n",
    "import nltk\n",
    "import simplemma\n",
    "from sklearn.feature_extraction.text import CountVectorizer\n",
    "from sklearn.model_selection import train_test_split\n",
    "from sklearn.naive_bayes import MultinomialNB\n",
    "from sklearn.metrics import accuracy_score, classification_report, confusion_matrix\n",
    "from sklearn.model_selection import GridSearchCV\n",
    "import numpy as np\n",
    "import matplotlib.pyplot as plt\n",
    "import seaborn as sns"
   ]
  },
  {
   "cell_type": "code",
   "execution_count": 2,
   "id": "2dd74376",
   "metadata": {},
   "outputs": [],
   "source": [
    "df = pd.read_csv('dataset.csv')"
   ]
  },
  {
   "cell_type": "code",
   "execution_count": 3,
   "id": "103ce866",
   "metadata": {},
   "outputs": [],
   "source": [
    "df.drop('Unnamed: 0', inplace=True, axis=1)"
   ]
  },
  {
   "cell_type": "code",
   "execution_count": 4,
   "id": "473096c2",
   "metadata": {},
   "outputs": [
    {
     "data": {
      "text/html": [
       "<div>\n",
       "<style scoped>\n",
       "    .dataframe tbody tr th:only-of-type {\n",
       "        vertical-align: middle;\n",
       "    }\n",
       "\n",
       "    .dataframe tbody tr th {\n",
       "        vertical-align: top;\n",
       "    }\n",
       "\n",
       "    .dataframe thead th {\n",
       "        text-align: right;\n",
       "    }\n",
       "</style>\n",
       "<table border=\"1\" class=\"dataframe\">\n",
       "  <thead>\n",
       "    <tr style=\"text-align: right;\">\n",
       "      <th></th>\n",
       "      <th>restaurant_name</th>\n",
       "      <th>rating</th>\n",
       "      <th>quote</th>\n",
       "      <th>review</th>\n",
       "    </tr>\n",
       "  </thead>\n",
       "  <tbody>\n",
       "    <tr>\n",
       "      <th>0</th>\n",
       "      <td>Maison Bretonne</td>\n",
       "      <td>1</td>\n",
       "      <td>Awful</td>\n",
       "      <td>Delusione per la qualità degli ingredienti. Se...</td>\n",
       "    </tr>\n",
       "    <tr>\n",
       "      <th>1</th>\n",
       "      <td>Maison Bretonne</td>\n",
       "      <td>1</td>\n",
       "      <td>Awful</td>\n",
       "      <td>galettes veramente cattive, bruciate e dure. p...</td>\n",
       "    </tr>\n",
       "    <tr>\n",
       "      <th>2</th>\n",
       "      <td>Maison Bretonne</td>\n",
       "      <td>3</td>\n",
       "      <td>Average</td>\n",
       "      <td>Mi aspettavo qualcosa di meglio. La qualità er...</td>\n",
       "    </tr>\n",
       "    <tr>\n",
       "      <th>3</th>\n",
       "      <td>Maison Bretonne</td>\n",
       "      <td>3</td>\n",
       "      <td>Good</td>\n",
       "      <td>Gallette molto buone . Cidro bretone e buon vi...</td>\n",
       "    </tr>\n",
       "    <tr>\n",
       "      <th>4</th>\n",
       "      <td>Komenn Thai</td>\n",
       "      <td>3</td>\n",
       "      <td>Average</td>\n",
       "      <td>Serata un po' così così, Non sono stati organi...</td>\n",
       "    </tr>\n",
       "    <tr>\n",
       "      <th>...</th>\n",
       "      <td>...</td>\n",
       "      <td>...</td>\n",
       "      <td>...</td>\n",
       "      <td>...</td>\n",
       "    </tr>\n",
       "    <tr>\n",
       "      <th>80140</th>\n",
       "      <td>Hachi Ristorante Giapponese</td>\n",
       "      <td>5</td>\n",
       "      <td>Ottimo</td>\n",
       "      <td>Ottimo Giapponese. Personale cortese, cibo ott...</td>\n",
       "    </tr>\n",
       "    <tr>\n",
       "      <th>80141</th>\n",
       "      <td>Hachi Ristorante Giapponese</td>\n",
       "      <td>5</td>\n",
       "      <td>Bikkuri che passione!</td>\n",
       "      <td>Abbiamo provato la formula All you can eat, e ...</td>\n",
       "    </tr>\n",
       "    <tr>\n",
       "      <th>80142</th>\n",
       "      <td>Hachi Ristorante Giapponese</td>\n",
       "      <td>5</td>\n",
       "      <td>Perfetto Sushi!</td>\n",
       "      <td>Chi si aspetta in italia ad un sushi perfetto?...</td>\n",
       "    </tr>\n",
       "    <tr>\n",
       "      <th>80143</th>\n",
       "      <td>Hachi Ristorante Giapponese</td>\n",
       "      <td>5</td>\n",
       "      <td>Sushi!! incredibile</td>\n",
       "      <td>Non credo che un ristorante di Sushi sarebbe b...</td>\n",
       "    </tr>\n",
       "    <tr>\n",
       "      <th>80144</th>\n",
       "      <td>Hachi Ristorante Giapponese</td>\n",
       "      <td>5</td>\n",
       "      <td>Ottimo cibo, ottimo servizio..Viviana per il p...</td>\n",
       "      <td>Potrebbe essere troppo..ma per noi è il miglio...</td>\n",
       "    </tr>\n",
       "  </tbody>\n",
       "</table>\n",
       "<p>80145 rows × 4 columns</p>\n",
       "</div>"
      ],
      "text/plain": [
       "                   restaurant_name  rating  \\\n",
       "0                  Maison Bretonne       1   \n",
       "1                  Maison Bretonne       1   \n",
       "2                  Maison Bretonne       3   \n",
       "3                  Maison Bretonne       3   \n",
       "4                      Komenn Thai       3   \n",
       "...                            ...     ...   \n",
       "80140  Hachi Ristorante Giapponese       5   \n",
       "80141  Hachi Ristorante Giapponese       5   \n",
       "80142  Hachi Ristorante Giapponese       5   \n",
       "80143  Hachi Ristorante Giapponese       5   \n",
       "80144  Hachi Ristorante Giapponese       5   \n",
       "\n",
       "                                                   quote  \\\n",
       "0                                                  Awful   \n",
       "1                                                  Awful   \n",
       "2                                                Average   \n",
       "3                                                   Good   \n",
       "4                                                Average   \n",
       "...                                                  ...   \n",
       "80140                                             Ottimo   \n",
       "80141                              Bikkuri che passione!   \n",
       "80142                                    Perfetto Sushi!   \n",
       "80143                                Sushi!! incredibile   \n",
       "80144  Ottimo cibo, ottimo servizio..Viviana per il p...   \n",
       "\n",
       "                                                  review  \n",
       "0      Delusione per la qualità degli ingredienti. Se...  \n",
       "1      galettes veramente cattive, bruciate e dure. p...  \n",
       "2      Mi aspettavo qualcosa di meglio. La qualità er...  \n",
       "3      Gallette molto buone . Cidro bretone e buon vi...  \n",
       "4      Serata un po' così così, Non sono stati organi...  \n",
       "...                                                  ...  \n",
       "80140  Ottimo Giapponese. Personale cortese, cibo ott...  \n",
       "80141  Abbiamo provato la formula All you can eat, e ...  \n",
       "80142  Chi si aspetta in italia ad un sushi perfetto?...  \n",
       "80143  Non credo che un ristorante di Sushi sarebbe b...  \n",
       "80144  Potrebbe essere troppo..ma per noi è il miglio...  \n",
       "\n",
       "[80145 rows x 4 columns]"
      ]
     },
     "execution_count": 4,
     "metadata": {},
     "output_type": "execute_result"
    }
   ],
   "source": [
    "df"
   ]
  },
  {
   "cell_type": "code",
   "execution_count": 5,
   "id": "0d0005ab",
   "metadata": {},
   "outputs": [],
   "source": [
    "stopwords = nltk.corpus.stopwords.words('italian')"
   ]
  },
  {
   "cell_type": "code",
   "execution_count": 6,
   "id": "8634f1e0",
   "metadata": {},
   "outputs": [
    {
     "name": "stdout",
     "output_type": "stream",
     "text": [
      "0\n",
      "2500\n",
      "5000\n",
      "7500\n",
      "10000\n",
      "12500\n",
      "15000\n",
      "17500\n",
      "20000\n",
      "22500\n",
      "25000\n",
      "27500\n",
      "30000\n",
      "32500\n",
      "35000\n",
      "37500\n",
      "40000\n",
      "42500\n",
      "45000\n",
      "47500\n",
      "50000\n",
      "52500\n",
      "55000\n",
      "57500\n",
      "60000\n",
      "62500\n",
      "65000\n",
      "67500\n",
      "70000\n",
      "72500\n",
      "75000\n",
      "77500\n",
      "80000\n"
     ]
    }
   ],
   "source": [
    "corpus = []\n",
    "for i in range(0, len(df)): #as the data as 1000 data points\n",
    "    if(i%2500==0):\n",
    "        print(i)\n",
    "    review = re.sub(r'[^\\w\\s]', ' ', str(df['review'][i]))\n",
    "    review = re.sub(r'\\s{2,}', ' ', review)\n",
    "    review = review.lower()\n",
    "    review = review.split()\n",
    "    review = [simplemma.lemmatize(word, lang='it') for word in review if not word in set(stopwords)]\n",
    "    review = ' '.join(review)\n",
    "    corpus.append(review)"
   ]
  },
  {
   "cell_type": "code",
   "execution_count": 7,
   "id": "cadd01cc",
   "metadata": {},
   "outputs": [],
   "source": [
    "df.loc[df[\"rating\"] < 4, \"rating\"] = 0\n",
    "df.loc[df[\"rating\"] >= 4, \"rating\"] = 1"
   ]
  },
  {
   "cell_type": "code",
   "execution_count": 8,
   "id": "72f2bac2",
   "metadata": {},
   "outputs": [],
   "source": [
    "df = df.astype({'rating':'int'})"
   ]
  },
  {
   "cell_type": "code",
   "execution_count": 9,
   "id": "a661e182",
   "metadata": {},
   "outputs": [
    {
     "data": {
      "text/html": [
       "<div>\n",
       "<style scoped>\n",
       "    .dataframe tbody tr th:only-of-type {\n",
       "        vertical-align: middle;\n",
       "    }\n",
       "\n",
       "    .dataframe tbody tr th {\n",
       "        vertical-align: top;\n",
       "    }\n",
       "\n",
       "    .dataframe thead th {\n",
       "        text-align: right;\n",
       "    }\n",
       "</style>\n",
       "<table border=\"1\" class=\"dataframe\">\n",
       "  <thead>\n",
       "    <tr style=\"text-align: right;\">\n",
       "      <th></th>\n",
       "      <th>restaurant_name</th>\n",
       "      <th>rating</th>\n",
       "      <th>quote</th>\n",
       "      <th>review</th>\n",
       "    </tr>\n",
       "  </thead>\n",
       "  <tbody>\n",
       "    <tr>\n",
       "      <th>0</th>\n",
       "      <td>Maison Bretonne</td>\n",
       "      <td>0</td>\n",
       "      <td>Awful</td>\n",
       "      <td>Delusione per la qualità degli ingredienti. Se...</td>\n",
       "    </tr>\n",
       "    <tr>\n",
       "      <th>1</th>\n",
       "      <td>Maison Bretonne</td>\n",
       "      <td>0</td>\n",
       "      <td>Awful</td>\n",
       "      <td>galettes veramente cattive, bruciate e dure. p...</td>\n",
       "    </tr>\n",
       "    <tr>\n",
       "      <th>2</th>\n",
       "      <td>Maison Bretonne</td>\n",
       "      <td>0</td>\n",
       "      <td>Average</td>\n",
       "      <td>Mi aspettavo qualcosa di meglio. La qualità er...</td>\n",
       "    </tr>\n",
       "    <tr>\n",
       "      <th>3</th>\n",
       "      <td>Maison Bretonne</td>\n",
       "      <td>0</td>\n",
       "      <td>Good</td>\n",
       "      <td>Gallette molto buone . Cidro bretone e buon vi...</td>\n",
       "    </tr>\n",
       "    <tr>\n",
       "      <th>4</th>\n",
       "      <td>Komenn Thai</td>\n",
       "      <td>0</td>\n",
       "      <td>Average</td>\n",
       "      <td>Serata un po' così così, Non sono stati organi...</td>\n",
       "    </tr>\n",
       "    <tr>\n",
       "      <th>...</th>\n",
       "      <td>...</td>\n",
       "      <td>...</td>\n",
       "      <td>...</td>\n",
       "      <td>...</td>\n",
       "    </tr>\n",
       "    <tr>\n",
       "      <th>80140</th>\n",
       "      <td>Hachi Ristorante Giapponese</td>\n",
       "      <td>1</td>\n",
       "      <td>Ottimo</td>\n",
       "      <td>Ottimo Giapponese. Personale cortese, cibo ott...</td>\n",
       "    </tr>\n",
       "    <tr>\n",
       "      <th>80141</th>\n",
       "      <td>Hachi Ristorante Giapponese</td>\n",
       "      <td>1</td>\n",
       "      <td>Bikkuri che passione!</td>\n",
       "      <td>Abbiamo provato la formula All you can eat, e ...</td>\n",
       "    </tr>\n",
       "    <tr>\n",
       "      <th>80142</th>\n",
       "      <td>Hachi Ristorante Giapponese</td>\n",
       "      <td>1</td>\n",
       "      <td>Perfetto Sushi!</td>\n",
       "      <td>Chi si aspetta in italia ad un sushi perfetto?...</td>\n",
       "    </tr>\n",
       "    <tr>\n",
       "      <th>80143</th>\n",
       "      <td>Hachi Ristorante Giapponese</td>\n",
       "      <td>1</td>\n",
       "      <td>Sushi!! incredibile</td>\n",
       "      <td>Non credo che un ristorante di Sushi sarebbe b...</td>\n",
       "    </tr>\n",
       "    <tr>\n",
       "      <th>80144</th>\n",
       "      <td>Hachi Ristorante Giapponese</td>\n",
       "      <td>1</td>\n",
       "      <td>Ottimo cibo, ottimo servizio..Viviana per il p...</td>\n",
       "      <td>Potrebbe essere troppo..ma per noi è il miglio...</td>\n",
       "    </tr>\n",
       "  </tbody>\n",
       "</table>\n",
       "<p>80145 rows × 4 columns</p>\n",
       "</div>"
      ],
      "text/plain": [
       "                   restaurant_name  rating  \\\n",
       "0                  Maison Bretonne       0   \n",
       "1                  Maison Bretonne       0   \n",
       "2                  Maison Bretonne       0   \n",
       "3                  Maison Bretonne       0   \n",
       "4                      Komenn Thai       0   \n",
       "...                            ...     ...   \n",
       "80140  Hachi Ristorante Giapponese       1   \n",
       "80141  Hachi Ristorante Giapponese       1   \n",
       "80142  Hachi Ristorante Giapponese       1   \n",
       "80143  Hachi Ristorante Giapponese       1   \n",
       "80144  Hachi Ristorante Giapponese       1   \n",
       "\n",
       "                                                   quote  \\\n",
       "0                                                  Awful   \n",
       "1                                                  Awful   \n",
       "2                                                Average   \n",
       "3                                                   Good   \n",
       "4                                                Average   \n",
       "...                                                  ...   \n",
       "80140                                             Ottimo   \n",
       "80141                              Bikkuri che passione!   \n",
       "80142                                    Perfetto Sushi!   \n",
       "80143                                Sushi!! incredibile   \n",
       "80144  Ottimo cibo, ottimo servizio..Viviana per il p...   \n",
       "\n",
       "                                                  review  \n",
       "0      Delusione per la qualità degli ingredienti. Se...  \n",
       "1      galettes veramente cattive, bruciate e dure. p...  \n",
       "2      Mi aspettavo qualcosa di meglio. La qualità er...  \n",
       "3      Gallette molto buone . Cidro bretone e buon vi...  \n",
       "4      Serata un po' così così, Non sono stati organi...  \n",
       "...                                                  ...  \n",
       "80140  Ottimo Giapponese. Personale cortese, cibo ott...  \n",
       "80141  Abbiamo provato la formula All you can eat, e ...  \n",
       "80142  Chi si aspetta in italia ad un sushi perfetto?...  \n",
       "80143  Non credo che un ristorante di Sushi sarebbe b...  \n",
       "80144  Potrebbe essere troppo..ma per noi è il miglio...  \n",
       "\n",
       "[80145 rows x 4 columns]"
      ]
     },
     "execution_count": 9,
     "metadata": {},
     "output_type": "execute_result"
    }
   ],
   "source": [
    "df"
   ]
  },
  {
   "cell_type": "code",
   "execution_count": 10,
   "id": "eff2c6c2",
   "metadata": {},
   "outputs": [],
   "source": [
    "cv = CountVectorizer(max_features = 2000)\n",
    "#the X and y\n",
    "X = cv.fit_transform(corpus).toarray()\n",
    "y = df.iloc[:, 1].values\n",
    "#X- data\n",
    "#y- labels"
   ]
  },
  {
   "cell_type": "code",
   "execution_count": 11,
   "id": "9b9eb74e",
   "metadata": {},
   "outputs": [],
   "source": [
    "del corpus"
   ]
  },
  {
   "cell_type": "code",
   "execution_count": 12,
   "id": "89a6865a",
   "metadata": {},
   "outputs": [
    {
     "data": {
      "text/plain": [
       "array([0, 0, 0, ..., 1, 1, 1])"
      ]
     },
     "execution_count": 12,
     "metadata": {},
     "output_type": "execute_result"
    }
   ],
   "source": [
    "y"
   ]
  },
  {
   "cell_type": "code",
   "execution_count": 13,
   "id": "8a7d4890",
   "metadata": {},
   "outputs": [],
   "source": [
    "del df"
   ]
  },
  {
   "cell_type": "code",
   "execution_count": 14,
   "id": "cf4bb62a",
   "metadata": {},
   "outputs": [
    {
     "name": "stdout",
     "output_type": "stream",
     "text": [
      "(60108, 2000)\n",
      "(60108,)\n",
      "(20037, 2000)\n",
      "(20037,)\n"
     ]
    }
   ],
   "source": [
    "X_train, X_test, y_train, y_test = train_test_split(X, y, test_size = 0.25, random_state = 7)\n",
    "print(X_train.shape)\n",
    "print(y_train.shape)\n",
    "print(X_test.shape)\n",
    "print(y_test.shape)"
   ]
  },
  {
   "cell_type": "code",
   "execution_count": 15,
   "id": "e7cfdb87",
   "metadata": {},
   "outputs": [],
   "source": [
    "base_multinomial = MultinomialNB()\n",
    "base_multinomial.fit(X_train,y_train)\n",
    "y_pred = base_multinomial.predict(X_test)"
   ]
  },
  {
   "cell_type": "code",
   "execution_count": 16,
   "id": "11dbd2a2",
   "metadata": {},
   "outputs": [
    {
     "data": {
      "text/plain": [
       "0.820532015770824"
      ]
     },
     "execution_count": 16,
     "metadata": {},
     "output_type": "execute_result"
    }
   ],
   "source": [
    "accuracy_score(y_test, y_pred)"
   ]
  },
  {
   "cell_type": "code",
   "execution_count": 17,
   "id": "540cda7c",
   "metadata": {},
   "outputs": [],
   "source": [
    "tuning_params = {\n",
    "    'alpha': [0, 0.0001, 0.01, 0.2, 0.4, 0.6, 0.8, 1],\n",
    "    'force_alpha': [True]\n",
    "}"
   ]
  },
  {
   "cell_type": "code",
   "execution_count": 18,
   "id": "e3f02eed",
   "metadata": {},
   "outputs": [
    {
     "name": "stdout",
     "output_type": "stream",
     "text": [
      "Fitting 20 folds for each of 8 candidates, totalling 160 fits\n",
      "[CV 1/20; 1/8] START alpha=0, force_alpha=True..................................\n"
     ]
    },
    {
     "name": "stderr",
     "output_type": "stream",
     "text": [
      "/Users/mauri/anaconda3/lib/python3.11/site-packages/sklearn/naive_bayes.py:903: RuntimeWarning: divide by zero encountered in log\n",
      "  self.feature_log_prob_ = np.log(smoothed_fc) - np.log(\n",
      "/Users/mauri/anaconda3/lib/python3.11/site-packages/sklearn/utils/extmath.py:193: RuntimeWarning: invalid value encountered in matmul\n",
      "  ret = a @ b\n"
     ]
    },
    {
     "name": "stdout",
     "output_type": "stream",
     "text": [
      "[CV 1/20; 1/8] END ...alpha=0, force_alpha=True;, score=0.499 total time=   1.2s\n",
      "[CV 2/20; 1/8] START alpha=0, force_alpha=True..................................\n"
     ]
    },
    {
     "name": "stderr",
     "output_type": "stream",
     "text": [
      "/Users/mauri/anaconda3/lib/python3.11/site-packages/sklearn/naive_bayes.py:903: RuntimeWarning: divide by zero encountered in log\n",
      "  self.feature_log_prob_ = np.log(smoothed_fc) - np.log(\n",
      "/Users/mauri/anaconda3/lib/python3.11/site-packages/sklearn/utils/extmath.py:193: RuntimeWarning: invalid value encountered in matmul\n",
      "  ret = a @ b\n"
     ]
    },
    {
     "name": "stdout",
     "output_type": "stream",
     "text": [
      "[CV 2/20; 1/8] END ...alpha=0, force_alpha=True;, score=0.499 total time=   1.3s\n",
      "[CV 3/20; 1/8] START alpha=0, force_alpha=True..................................\n"
     ]
    },
    {
     "name": "stderr",
     "output_type": "stream",
     "text": [
      "/Users/mauri/anaconda3/lib/python3.11/site-packages/sklearn/naive_bayes.py:903: RuntimeWarning: divide by zero encountered in log\n",
      "  self.feature_log_prob_ = np.log(smoothed_fc) - np.log(\n",
      "/Users/mauri/anaconda3/lib/python3.11/site-packages/sklearn/utils/extmath.py:193: RuntimeWarning: invalid value encountered in matmul\n",
      "  ret = a @ b\n"
     ]
    },
    {
     "name": "stdout",
     "output_type": "stream",
     "text": [
      "[CV 3/20; 1/8] END ...alpha=0, force_alpha=True;, score=0.504 total time=   1.3s\n",
      "[CV 4/20; 1/8] START alpha=0, force_alpha=True..................................\n"
     ]
    },
    {
     "name": "stderr",
     "output_type": "stream",
     "text": [
      "/Users/mauri/anaconda3/lib/python3.11/site-packages/sklearn/naive_bayes.py:903: RuntimeWarning: divide by zero encountered in log\n",
      "  self.feature_log_prob_ = np.log(smoothed_fc) - np.log(\n",
      "/Users/mauri/anaconda3/lib/python3.11/site-packages/sklearn/utils/extmath.py:193: RuntimeWarning: invalid value encountered in matmul\n",
      "  ret = a @ b\n"
     ]
    },
    {
     "name": "stdout",
     "output_type": "stream",
     "text": [
      "[CV 4/20; 1/8] END ...alpha=0, force_alpha=True;, score=0.504 total time=   1.3s\n",
      "[CV 5/20; 1/8] START alpha=0, force_alpha=True..................................\n"
     ]
    },
    {
     "name": "stderr",
     "output_type": "stream",
     "text": [
      "/Users/mauri/anaconda3/lib/python3.11/site-packages/sklearn/naive_bayes.py:903: RuntimeWarning: divide by zero encountered in log\n",
      "  self.feature_log_prob_ = np.log(smoothed_fc) - np.log(\n",
      "/Users/mauri/anaconda3/lib/python3.11/site-packages/sklearn/utils/extmath.py:193: RuntimeWarning: invalid value encountered in matmul\n",
      "  ret = a @ b\n"
     ]
    },
    {
     "name": "stdout",
     "output_type": "stream",
     "text": [
      "[CV 5/20; 1/8] END ...alpha=0, force_alpha=True;, score=0.503 total time=   1.3s\n",
      "[CV 6/20; 1/8] START alpha=0, force_alpha=True..................................\n"
     ]
    },
    {
     "name": "stderr",
     "output_type": "stream",
     "text": [
      "/Users/mauri/anaconda3/lib/python3.11/site-packages/sklearn/naive_bayes.py:903: RuntimeWarning: divide by zero encountered in log\n",
      "  self.feature_log_prob_ = np.log(smoothed_fc) - np.log(\n",
      "/Users/mauri/anaconda3/lib/python3.11/site-packages/sklearn/utils/extmath.py:193: RuntimeWarning: invalid value encountered in matmul\n",
      "  ret = a @ b\n"
     ]
    },
    {
     "name": "stdout",
     "output_type": "stream",
     "text": [
      "[CV 6/20; 1/8] END ...alpha=0, force_alpha=True;, score=0.501 total time=   1.3s\n",
      "[CV 7/20; 1/8] START alpha=0, force_alpha=True..................................\n"
     ]
    },
    {
     "name": "stderr",
     "output_type": "stream",
     "text": [
      "/Users/mauri/anaconda3/lib/python3.11/site-packages/sklearn/naive_bayes.py:903: RuntimeWarning: divide by zero encountered in log\n",
      "  self.feature_log_prob_ = np.log(smoothed_fc) - np.log(\n",
      "/Users/mauri/anaconda3/lib/python3.11/site-packages/sklearn/utils/extmath.py:193: RuntimeWarning: invalid value encountered in matmul\n",
      "  ret = a @ b\n"
     ]
    },
    {
     "name": "stdout",
     "output_type": "stream",
     "text": [
      "[CV 7/20; 1/8] END ...alpha=0, force_alpha=True;, score=0.499 total time=   1.3s\n",
      "[CV 8/20; 1/8] START alpha=0, force_alpha=True..................................\n"
     ]
    },
    {
     "name": "stderr",
     "output_type": "stream",
     "text": [
      "/Users/mauri/anaconda3/lib/python3.11/site-packages/sklearn/naive_bayes.py:903: RuntimeWarning: divide by zero encountered in log\n",
      "  self.feature_log_prob_ = np.log(smoothed_fc) - np.log(\n",
      "/Users/mauri/anaconda3/lib/python3.11/site-packages/sklearn/utils/extmath.py:193: RuntimeWarning: invalid value encountered in matmul\n",
      "  ret = a @ b\n"
     ]
    },
    {
     "name": "stdout",
     "output_type": "stream",
     "text": [
      "[CV 8/20; 1/8] END ...alpha=0, force_alpha=True;, score=0.505 total time=   1.3s\n",
      "[CV 9/20; 1/8] START alpha=0, force_alpha=True..................................\n"
     ]
    },
    {
     "name": "stderr",
     "output_type": "stream",
     "text": [
      "/Users/mauri/anaconda3/lib/python3.11/site-packages/sklearn/naive_bayes.py:903: RuntimeWarning: divide by zero encountered in log\n",
      "  self.feature_log_prob_ = np.log(smoothed_fc) - np.log(\n",
      "/Users/mauri/anaconda3/lib/python3.11/site-packages/sklearn/utils/extmath.py:193: RuntimeWarning: invalid value encountered in matmul\n",
      "  ret = a @ b\n"
     ]
    },
    {
     "name": "stdout",
     "output_type": "stream",
     "text": [
      "[CV 9/20; 1/8] END ...alpha=0, force_alpha=True;, score=0.503 total time=   1.3s\n",
      "[CV 10/20; 1/8] START alpha=0, force_alpha=True.................................\n"
     ]
    },
    {
     "name": "stderr",
     "output_type": "stream",
     "text": [
      "/Users/mauri/anaconda3/lib/python3.11/site-packages/sklearn/naive_bayes.py:903: RuntimeWarning: divide by zero encountered in log\n",
      "  self.feature_log_prob_ = np.log(smoothed_fc) - np.log(\n",
      "/Users/mauri/anaconda3/lib/python3.11/site-packages/sklearn/utils/extmath.py:193: RuntimeWarning: invalid value encountered in matmul\n",
      "  ret = a @ b\n"
     ]
    },
    {
     "name": "stdout",
     "output_type": "stream",
     "text": [
      "[CV 10/20; 1/8] END ..alpha=0, force_alpha=True;, score=0.503 total time=   1.4s\n",
      "[CV 11/20; 1/8] START alpha=0, force_alpha=True.................................\n"
     ]
    },
    {
     "name": "stderr",
     "output_type": "stream",
     "text": [
      "/Users/mauri/anaconda3/lib/python3.11/site-packages/sklearn/naive_bayes.py:903: RuntimeWarning: divide by zero encountered in log\n",
      "  self.feature_log_prob_ = np.log(smoothed_fc) - np.log(\n",
      "/Users/mauri/anaconda3/lib/python3.11/site-packages/sklearn/utils/extmath.py:193: RuntimeWarning: invalid value encountered in matmul\n",
      "  ret = a @ b\n"
     ]
    },
    {
     "name": "stdout",
     "output_type": "stream",
     "text": [
      "[CV 11/20; 1/8] END ..alpha=0, force_alpha=True;, score=0.505 total time=   1.4s\n",
      "[CV 12/20; 1/8] START alpha=0, force_alpha=True.................................\n"
     ]
    },
    {
     "name": "stderr",
     "output_type": "stream",
     "text": [
      "/Users/mauri/anaconda3/lib/python3.11/site-packages/sklearn/naive_bayes.py:903: RuntimeWarning: divide by zero encountered in log\n",
      "  self.feature_log_prob_ = np.log(smoothed_fc) - np.log(\n",
      "/Users/mauri/anaconda3/lib/python3.11/site-packages/sklearn/utils/extmath.py:193: RuntimeWarning: invalid value encountered in matmul\n",
      "  ret = a @ b\n"
     ]
    },
    {
     "name": "stdout",
     "output_type": "stream",
     "text": [
      "[CV 12/20; 1/8] END ..alpha=0, force_alpha=True;, score=0.504 total time=   1.3s\n",
      "[CV 13/20; 1/8] START alpha=0, force_alpha=True.................................\n"
     ]
    },
    {
     "name": "stderr",
     "output_type": "stream",
     "text": [
      "/Users/mauri/anaconda3/lib/python3.11/site-packages/sklearn/naive_bayes.py:903: RuntimeWarning: divide by zero encountered in log\n",
      "  self.feature_log_prob_ = np.log(smoothed_fc) - np.log(\n",
      "/Users/mauri/anaconda3/lib/python3.11/site-packages/sklearn/utils/extmath.py:193: RuntimeWarning: invalid value encountered in matmul\n",
      "  ret = a @ b\n"
     ]
    },
    {
     "name": "stdout",
     "output_type": "stream",
     "text": [
      "[CV 13/20; 1/8] END ..alpha=0, force_alpha=True;, score=0.506 total time=   1.4s\n",
      "[CV 14/20; 1/8] START alpha=0, force_alpha=True.................................\n"
     ]
    },
    {
     "name": "stderr",
     "output_type": "stream",
     "text": [
      "/Users/mauri/anaconda3/lib/python3.11/site-packages/sklearn/naive_bayes.py:903: RuntimeWarning: divide by zero encountered in log\n",
      "  self.feature_log_prob_ = np.log(smoothed_fc) - np.log(\n",
      "/Users/mauri/anaconda3/lib/python3.11/site-packages/sklearn/utils/extmath.py:193: RuntimeWarning: invalid value encountered in matmul\n",
      "  ret = a @ b\n"
     ]
    },
    {
     "name": "stdout",
     "output_type": "stream",
     "text": [
      "[CV 14/20; 1/8] END ..alpha=0, force_alpha=True;, score=0.503 total time=   1.3s\n",
      "[CV 15/20; 1/8] START alpha=0, force_alpha=True.................................\n"
     ]
    },
    {
     "name": "stderr",
     "output_type": "stream",
     "text": [
      "/Users/mauri/anaconda3/lib/python3.11/site-packages/sklearn/naive_bayes.py:903: RuntimeWarning: divide by zero encountered in log\n",
      "  self.feature_log_prob_ = np.log(smoothed_fc) - np.log(\n",
      "/Users/mauri/anaconda3/lib/python3.11/site-packages/sklearn/utils/extmath.py:193: RuntimeWarning: invalid value encountered in matmul\n",
      "  ret = a @ b\n"
     ]
    },
    {
     "name": "stdout",
     "output_type": "stream",
     "text": [
      "[CV 15/20; 1/8] END ..alpha=0, force_alpha=True;, score=0.503 total time=   1.3s\n",
      "[CV 16/20; 1/8] START alpha=0, force_alpha=True.................................\n"
     ]
    },
    {
     "name": "stderr",
     "output_type": "stream",
     "text": [
      "/Users/mauri/anaconda3/lib/python3.11/site-packages/sklearn/naive_bayes.py:903: RuntimeWarning: divide by zero encountered in log\n",
      "  self.feature_log_prob_ = np.log(smoothed_fc) - np.log(\n",
      "/Users/mauri/anaconda3/lib/python3.11/site-packages/sklearn/utils/extmath.py:193: RuntimeWarning: invalid value encountered in matmul\n",
      "  ret = a @ b\n"
     ]
    },
    {
     "name": "stdout",
     "output_type": "stream",
     "text": [
      "[CV 16/20; 1/8] END ..alpha=0, force_alpha=True;, score=0.503 total time=   1.4s\n",
      "[CV 17/20; 1/8] START alpha=0, force_alpha=True.................................\n"
     ]
    },
    {
     "name": "stderr",
     "output_type": "stream",
     "text": [
      "/Users/mauri/anaconda3/lib/python3.11/site-packages/sklearn/naive_bayes.py:903: RuntimeWarning: divide by zero encountered in log\n",
      "  self.feature_log_prob_ = np.log(smoothed_fc) - np.log(\n",
      "/Users/mauri/anaconda3/lib/python3.11/site-packages/sklearn/utils/extmath.py:193: RuntimeWarning: invalid value encountered in matmul\n",
      "  ret = a @ b\n"
     ]
    },
    {
     "name": "stdout",
     "output_type": "stream",
     "text": [
      "[CV 17/20; 1/8] END ..alpha=0, force_alpha=True;, score=0.501 total time=   1.5s\n",
      "[CV 18/20; 1/8] START alpha=0, force_alpha=True.................................\n"
     ]
    },
    {
     "name": "stderr",
     "output_type": "stream",
     "text": [
      "/Users/mauri/anaconda3/lib/python3.11/site-packages/sklearn/naive_bayes.py:903: RuntimeWarning: divide by zero encountered in log\n",
      "  self.feature_log_prob_ = np.log(smoothed_fc) - np.log(\n",
      "/Users/mauri/anaconda3/lib/python3.11/site-packages/sklearn/utils/extmath.py:193: RuntimeWarning: invalid value encountered in matmul\n",
      "  ret = a @ b\n"
     ]
    },
    {
     "name": "stdout",
     "output_type": "stream",
     "text": [
      "[CV 18/20; 1/8] END ..alpha=0, force_alpha=True;, score=0.503 total time=   1.3s\n",
      "[CV 19/20; 1/8] START alpha=0, force_alpha=True.................................\n"
     ]
    },
    {
     "name": "stderr",
     "output_type": "stream",
     "text": [
      "/Users/mauri/anaconda3/lib/python3.11/site-packages/sklearn/naive_bayes.py:903: RuntimeWarning: divide by zero encountered in log\n",
      "  self.feature_log_prob_ = np.log(smoothed_fc) - np.log(\n",
      "/Users/mauri/anaconda3/lib/python3.11/site-packages/sklearn/utils/extmath.py:193: RuntimeWarning: invalid value encountered in matmul\n",
      "  ret = a @ b\n"
     ]
    },
    {
     "name": "stdout",
     "output_type": "stream",
     "text": [
      "[CV 19/20; 1/8] END ..alpha=0, force_alpha=True;, score=0.502 total time=   1.3s\n",
      "[CV 20/20; 1/8] START alpha=0, force_alpha=True.................................\n"
     ]
    },
    {
     "name": "stderr",
     "output_type": "stream",
     "text": [
      "/Users/mauri/anaconda3/lib/python3.11/site-packages/sklearn/naive_bayes.py:903: RuntimeWarning: divide by zero encountered in log\n",
      "  self.feature_log_prob_ = np.log(smoothed_fc) - np.log(\n",
      "/Users/mauri/anaconda3/lib/python3.11/site-packages/sklearn/utils/extmath.py:193: RuntimeWarning: invalid value encountered in matmul\n",
      "  ret = a @ b\n"
     ]
    },
    {
     "name": "stdout",
     "output_type": "stream",
     "text": [
      "[CV 20/20; 1/8] END ..alpha=0, force_alpha=True;, score=0.503 total time=   1.4s\n",
      "[CV 1/20; 2/8] START alpha=0.0001, force_alpha=True.............................\n",
      "[CV 1/20; 2/8] END alpha=0.0001, force_alpha=True;, score=0.812 total time=   1.3s\n",
      "[CV 2/20; 2/8] START alpha=0.0001, force_alpha=True.............................\n",
      "[CV 2/20; 2/8] END alpha=0.0001, force_alpha=True;, score=0.817 total time=   1.3s\n",
      "[CV 3/20; 2/8] START alpha=0.0001, force_alpha=True.............................\n",
      "[CV 3/20; 2/8] END alpha=0.0001, force_alpha=True;, score=0.822 total time=   1.3s\n",
      "[CV 4/20; 2/8] START alpha=0.0001, force_alpha=True.............................\n",
      "[CV 4/20; 2/8] END alpha=0.0001, force_alpha=True;, score=0.827 total time=   1.2s\n",
      "[CV 5/20; 2/8] START alpha=0.0001, force_alpha=True.............................\n",
      "[CV 5/20; 2/8] END alpha=0.0001, force_alpha=True;, score=0.832 total time=   1.3s\n",
      "[CV 6/20; 2/8] START alpha=0.0001, force_alpha=True.............................\n",
      "[CV 6/20; 2/8] END alpha=0.0001, force_alpha=True;, score=0.819 total time=   1.3s\n",
      "[CV 7/20; 2/8] START alpha=0.0001, force_alpha=True.............................\n",
      "[CV 7/20; 2/8] END alpha=0.0001, force_alpha=True;, score=0.806 total time=   1.3s\n",
      "[CV 8/20; 2/8] START alpha=0.0001, force_alpha=True.............................\n",
      "[CV 8/20; 2/8] END alpha=0.0001, force_alpha=True;, score=0.815 total time=   1.2s\n",
      "[CV 9/20; 2/8] START alpha=0.0001, force_alpha=True.............................\n",
      "[CV 9/20; 2/8] END alpha=0.0001, force_alpha=True;, score=0.813 total time=   1.3s\n",
      "[CV 10/20; 2/8] START alpha=0.0001, force_alpha=True............................\n",
      "[CV 10/20; 2/8] END alpha=0.0001, force_alpha=True;, score=0.812 total time=   1.4s\n",
      "[CV 11/20; 2/8] START alpha=0.0001, force_alpha=True............................\n",
      "[CV 11/20; 2/8] END alpha=0.0001, force_alpha=True;, score=0.821 total time=   1.4s\n",
      "[CV 12/20; 2/8] START alpha=0.0001, force_alpha=True............................\n",
      "[CV 12/20; 2/8] END alpha=0.0001, force_alpha=True;, score=0.821 total time=   1.4s\n",
      "[CV 13/20; 2/8] START alpha=0.0001, force_alpha=True............................\n",
      "[CV 13/20; 2/8] END alpha=0.0001, force_alpha=True;, score=0.821 total time=   1.3s\n",
      "[CV 14/20; 2/8] START alpha=0.0001, force_alpha=True............................\n",
      "[CV 14/20; 2/8] END alpha=0.0001, force_alpha=True;, score=0.814 total time=   1.3s\n",
      "[CV 15/20; 2/8] START alpha=0.0001, force_alpha=True............................\n",
      "[CV 15/20; 2/8] END alpha=0.0001, force_alpha=True;, score=0.820 total time=   1.3s\n",
      "[CV 16/20; 2/8] START alpha=0.0001, force_alpha=True............................\n",
      "[CV 16/20; 2/8] END alpha=0.0001, force_alpha=True;, score=0.821 total time=   1.3s\n",
      "[CV 17/20; 2/8] START alpha=0.0001, force_alpha=True............................\n",
      "[CV 17/20; 2/8] END alpha=0.0001, force_alpha=True;, score=0.815 total time=   1.3s\n",
      "[CV 18/20; 2/8] START alpha=0.0001, force_alpha=True............................\n",
      "[CV 18/20; 2/8] END alpha=0.0001, force_alpha=True;, score=0.817 total time=   1.4s\n",
      "[CV 19/20; 2/8] START alpha=0.0001, force_alpha=True............................\n",
      "[CV 19/20; 2/8] END alpha=0.0001, force_alpha=True;, score=0.815 total time=   1.4s\n",
      "[CV 20/20; 2/8] START alpha=0.0001, force_alpha=True............................\n",
      "[CV 20/20; 2/8] END alpha=0.0001, force_alpha=True;, score=0.811 total time=   1.3s\n",
      "[CV 1/20; 3/8] START alpha=0.01, force_alpha=True...............................\n",
      "[CV 1/20; 3/8] END alpha=0.01, force_alpha=True;, score=0.812 total time=   1.4s\n",
      "[CV 2/20; 3/8] START alpha=0.01, force_alpha=True...............................\n",
      "[CV 2/20; 3/8] END alpha=0.01, force_alpha=True;, score=0.817 total time=   1.3s\n",
      "[CV 3/20; 3/8] START alpha=0.01, force_alpha=True...............................\n",
      "[CV 3/20; 3/8] END alpha=0.01, force_alpha=True;, score=0.822 total time=   1.2s\n",
      "[CV 4/20; 3/8] START alpha=0.01, force_alpha=True...............................\n",
      "[CV 4/20; 3/8] END alpha=0.01, force_alpha=True;, score=0.827 total time=   1.3s\n",
      "[CV 5/20; 3/8] START alpha=0.01, force_alpha=True...............................\n",
      "[CV 5/20; 3/8] END alpha=0.01, force_alpha=True;, score=0.832 total time=   1.2s\n",
      "[CV 6/20; 3/8] START alpha=0.01, force_alpha=True...............................\n",
      "[CV 6/20; 3/8] END alpha=0.01, force_alpha=True;, score=0.819 total time=   1.2s\n",
      "[CV 7/20; 3/8] START alpha=0.01, force_alpha=True...............................\n",
      "[CV 7/20; 3/8] END alpha=0.01, force_alpha=True;, score=0.806 total time=   1.2s\n",
      "[CV 8/20; 3/8] START alpha=0.01, force_alpha=True...............................\n",
      "[CV 8/20; 3/8] END alpha=0.01, force_alpha=True;, score=0.815 total time=   1.2s\n",
      "[CV 9/20; 3/8] START alpha=0.01, force_alpha=True...............................\n",
      "[CV 9/20; 3/8] END alpha=0.01, force_alpha=True;, score=0.813 total time=   1.2s\n",
      "[CV 10/20; 3/8] START alpha=0.01, force_alpha=True..............................\n",
      "[CV 10/20; 3/8] END alpha=0.01, force_alpha=True;, score=0.812 total time=   1.3s\n",
      "[CV 11/20; 3/8] START alpha=0.01, force_alpha=True..............................\n",
      "[CV 11/20; 3/8] END alpha=0.01, force_alpha=True;, score=0.821 total time=   1.2s\n",
      "[CV 12/20; 3/8] START alpha=0.01, force_alpha=True..............................\n",
      "[CV 12/20; 3/8] END alpha=0.01, force_alpha=True;, score=0.821 total time=   1.2s\n",
      "[CV 13/20; 3/8] START alpha=0.01, force_alpha=True..............................\n",
      "[CV 13/20; 3/8] END alpha=0.01, force_alpha=True;, score=0.821 total time=   1.3s\n",
      "[CV 14/20; 3/8] START alpha=0.01, force_alpha=True..............................\n",
      "[CV 14/20; 3/8] END alpha=0.01, force_alpha=True;, score=0.814 total time=   1.2s\n",
      "[CV 15/20; 3/8] START alpha=0.01, force_alpha=True..............................\n",
      "[CV 15/20; 3/8] END alpha=0.01, force_alpha=True;, score=0.820 total time=   1.2s\n",
      "[CV 16/20; 3/8] START alpha=0.01, force_alpha=True..............................\n",
      "[CV 16/20; 3/8] END alpha=0.01, force_alpha=True;, score=0.821 total time=   1.3s\n",
      "[CV 17/20; 3/8] START alpha=0.01, force_alpha=True..............................\n",
      "[CV 17/20; 3/8] END alpha=0.01, force_alpha=True;, score=0.815 total time=   1.3s\n",
      "[CV 18/20; 3/8] START alpha=0.01, force_alpha=True..............................\n",
      "[CV 18/20; 3/8] END alpha=0.01, force_alpha=True;, score=0.817 total time=   1.3s\n",
      "[CV 19/20; 3/8] START alpha=0.01, force_alpha=True..............................\n",
      "[CV 19/20; 3/8] END alpha=0.01, force_alpha=True;, score=0.815 total time=   1.3s\n",
      "[CV 20/20; 3/8] START alpha=0.01, force_alpha=True..............................\n",
      "[CV 20/20; 3/8] END alpha=0.01, force_alpha=True;, score=0.811 total time=   1.2s\n",
      "[CV 1/20; 4/8] START alpha=0.2, force_alpha=True................................\n",
      "[CV 1/20; 4/8] END .alpha=0.2, force_alpha=True;, score=0.812 total time=   1.3s\n",
      "[CV 2/20; 4/8] START alpha=0.2, force_alpha=True................................\n",
      "[CV 2/20; 4/8] END .alpha=0.2, force_alpha=True;, score=0.817 total time=   1.3s\n",
      "[CV 3/20; 4/8] START alpha=0.2, force_alpha=True................................\n",
      "[CV 3/20; 4/8] END .alpha=0.2, force_alpha=True;, score=0.822 total time=   1.3s\n",
      "[CV 4/20; 4/8] START alpha=0.2, force_alpha=True................................\n",
      "[CV 4/20; 4/8] END .alpha=0.2, force_alpha=True;, score=0.827 total time=   1.2s\n",
      "[CV 5/20; 4/8] START alpha=0.2, force_alpha=True................................\n",
      "[CV 5/20; 4/8] END .alpha=0.2, force_alpha=True;, score=0.832 total time=   1.2s\n",
      "[CV 6/20; 4/8] START alpha=0.2, force_alpha=True................................\n",
      "[CV 6/20; 4/8] END .alpha=0.2, force_alpha=True;, score=0.819 total time=   1.3s\n",
      "[CV 7/20; 4/8] START alpha=0.2, force_alpha=True................................\n",
      "[CV 7/20; 4/8] END .alpha=0.2, force_alpha=True;, score=0.806 total time=   1.3s\n",
      "[CV 8/20; 4/8] START alpha=0.2, force_alpha=True................................\n",
      "[CV 8/20; 4/8] END .alpha=0.2, force_alpha=True;, score=0.815 total time=   1.2s\n",
      "[CV 9/20; 4/8] START alpha=0.2, force_alpha=True................................\n",
      "[CV 9/20; 4/8] END .alpha=0.2, force_alpha=True;, score=0.813 total time=   1.3s\n",
      "[CV 10/20; 4/8] START alpha=0.2, force_alpha=True...............................\n",
      "[CV 10/20; 4/8] END alpha=0.2, force_alpha=True;, score=0.812 total time=   1.2s\n",
      "[CV 11/20; 4/8] START alpha=0.2, force_alpha=True...............................\n"
     ]
    },
    {
     "name": "stdout",
     "output_type": "stream",
     "text": [
      "[CV 11/20; 4/8] END alpha=0.2, force_alpha=True;, score=0.821 total time=   1.2s\n",
      "[CV 12/20; 4/8] START alpha=0.2, force_alpha=True...............................\n",
      "[CV 12/20; 4/8] END alpha=0.2, force_alpha=True;, score=0.821 total time=   1.2s\n",
      "[CV 13/20; 4/8] START alpha=0.2, force_alpha=True...............................\n",
      "[CV 13/20; 4/8] END alpha=0.2, force_alpha=True;, score=0.820 total time=   1.2s\n",
      "[CV 14/20; 4/8] START alpha=0.2, force_alpha=True...............................\n",
      "[CV 14/20; 4/8] END alpha=0.2, force_alpha=True;, score=0.814 total time=   1.2s\n",
      "[CV 15/20; 4/8] START alpha=0.2, force_alpha=True...............................\n",
      "[CV 15/20; 4/8] END alpha=0.2, force_alpha=True;, score=0.820 total time=   1.3s\n",
      "[CV 16/20; 4/8] START alpha=0.2, force_alpha=True...............................\n",
      "[CV 16/20; 4/8] END alpha=0.2, force_alpha=True;, score=0.822 total time=   1.2s\n",
      "[CV 17/20; 4/8] START alpha=0.2, force_alpha=True...............................\n",
      "[CV 17/20; 4/8] END alpha=0.2, force_alpha=True;, score=0.815 total time=   1.2s\n",
      "[CV 18/20; 4/8] START alpha=0.2, force_alpha=True...............................\n",
      "[CV 18/20; 4/8] END alpha=0.2, force_alpha=True;, score=0.817 total time=   1.2s\n",
      "[CV 19/20; 4/8] START alpha=0.2, force_alpha=True...............................\n",
      "[CV 19/20; 4/8] END alpha=0.2, force_alpha=True;, score=0.815 total time=   1.2s\n",
      "[CV 20/20; 4/8] START alpha=0.2, force_alpha=True...............................\n",
      "[CV 20/20; 4/8] END alpha=0.2, force_alpha=True;, score=0.811 total time=   1.2s\n",
      "[CV 1/20; 5/8] START alpha=0.4, force_alpha=True................................\n",
      "[CV 1/20; 5/8] END .alpha=0.4, force_alpha=True;, score=0.812 total time=   1.2s\n",
      "[CV 2/20; 5/8] START alpha=0.4, force_alpha=True................................\n",
      "[CV 2/20; 5/8] END .alpha=0.4, force_alpha=True;, score=0.817 total time=   1.2s\n",
      "[CV 3/20; 5/8] START alpha=0.4, force_alpha=True................................\n",
      "[CV 3/20; 5/8] END .alpha=0.4, force_alpha=True;, score=0.822 total time=   1.2s\n",
      "[CV 4/20; 5/8] START alpha=0.4, force_alpha=True................................\n",
      "[CV 4/20; 5/8] END .alpha=0.4, force_alpha=True;, score=0.828 total time=   1.2s\n",
      "[CV 5/20; 5/8] START alpha=0.4, force_alpha=True................................\n",
      "[CV 5/20; 5/8] END .alpha=0.4, force_alpha=True;, score=0.832 total time=   1.2s\n",
      "[CV 6/20; 5/8] START alpha=0.4, force_alpha=True................................\n",
      "[CV 6/20; 5/8] END .alpha=0.4, force_alpha=True;, score=0.818 total time=   1.2s\n",
      "[CV 7/20; 5/8] START alpha=0.4, force_alpha=True................................\n",
      "[CV 7/20; 5/8] END .alpha=0.4, force_alpha=True;, score=0.806 total time=   1.3s\n",
      "[CV 8/20; 5/8] START alpha=0.4, force_alpha=True................................\n",
      "[CV 8/20; 5/8] END .alpha=0.4, force_alpha=True;, score=0.815 total time=   1.2s\n",
      "[CV 9/20; 5/8] START alpha=0.4, force_alpha=True................................\n",
      "[CV 9/20; 5/8] END .alpha=0.4, force_alpha=True;, score=0.813 total time=   1.2s\n",
      "[CV 10/20; 5/8] START alpha=0.4, force_alpha=True...............................\n",
      "[CV 10/20; 5/8] END alpha=0.4, force_alpha=True;, score=0.812 total time=   1.2s\n",
      "[CV 11/20; 5/8] START alpha=0.4, force_alpha=True...............................\n",
      "[CV 11/20; 5/8] END alpha=0.4, force_alpha=True;, score=0.821 total time=   1.3s\n",
      "[CV 12/20; 5/8] START alpha=0.4, force_alpha=True...............................\n",
      "[CV 12/20; 5/8] END alpha=0.4, force_alpha=True;, score=0.821 total time=   1.2s\n",
      "[CV 13/20; 5/8] START alpha=0.4, force_alpha=True...............................\n",
      "[CV 13/20; 5/8] END alpha=0.4, force_alpha=True;, score=0.820 total time=   1.2s\n",
      "[CV 14/20; 5/8] START alpha=0.4, force_alpha=True...............................\n",
      "[CV 14/20; 5/8] END alpha=0.4, force_alpha=True;, score=0.813 total time=   1.2s\n",
      "[CV 15/20; 5/8] START alpha=0.4, force_alpha=True...............................\n",
      "[CV 15/20; 5/8] END alpha=0.4, force_alpha=True;, score=0.820 total time=   1.2s\n",
      "[CV 16/20; 5/8] START alpha=0.4, force_alpha=True...............................\n",
      "[CV 16/20; 5/8] END alpha=0.4, force_alpha=True;, score=0.822 total time=   1.2s\n",
      "[CV 17/20; 5/8] START alpha=0.4, force_alpha=True...............................\n",
      "[CV 17/20; 5/8] END alpha=0.4, force_alpha=True;, score=0.815 total time=   1.2s\n",
      "[CV 18/20; 5/8] START alpha=0.4, force_alpha=True...............................\n",
      "[CV 18/20; 5/8] END alpha=0.4, force_alpha=True;, score=0.817 total time=   1.2s\n",
      "[CV 19/20; 5/8] START alpha=0.4, force_alpha=True...............................\n",
      "[CV 19/20; 5/8] END alpha=0.4, force_alpha=True;, score=0.815 total time=   1.2s\n",
      "[CV 20/20; 5/8] START alpha=0.4, force_alpha=True...............................\n",
      "[CV 20/20; 5/8] END alpha=0.4, force_alpha=True;, score=0.811 total time=   1.2s\n",
      "[CV 1/20; 6/8] START alpha=0.6, force_alpha=True................................\n",
      "[CV 1/20; 6/8] END .alpha=0.6, force_alpha=True;, score=0.812 total time=   1.3s\n",
      "[CV 2/20; 6/8] START alpha=0.6, force_alpha=True................................\n",
      "[CV 2/20; 6/8] END .alpha=0.6, force_alpha=True;, score=0.817 total time=   1.2s\n",
      "[CV 3/20; 6/8] START alpha=0.6, force_alpha=True................................\n",
      "[CV 3/20; 6/8] END .alpha=0.6, force_alpha=True;, score=0.822 total time=   1.2s\n",
      "[CV 4/20; 6/8] START alpha=0.6, force_alpha=True................................\n",
      "[CV 4/20; 6/8] END .alpha=0.6, force_alpha=True;, score=0.828 total time=   1.2s\n",
      "[CV 5/20; 6/8] START alpha=0.6, force_alpha=True................................\n",
      "[CV 5/20; 6/8] END .alpha=0.6, force_alpha=True;, score=0.831 total time=   1.2s\n",
      "[CV 6/20; 6/8] START alpha=0.6, force_alpha=True................................\n",
      "[CV 6/20; 6/8] END .alpha=0.6, force_alpha=True;, score=0.818 total time=   1.2s\n",
      "[CV 7/20; 6/8] START alpha=0.6, force_alpha=True................................\n",
      "[CV 7/20; 6/8] END .alpha=0.6, force_alpha=True;, score=0.806 total time=   1.2s\n",
      "[CV 8/20; 6/8] START alpha=0.6, force_alpha=True................................\n",
      "[CV 8/20; 6/8] END .alpha=0.6, force_alpha=True;, score=0.815 total time=   1.2s\n",
      "[CV 9/20; 6/8] START alpha=0.6, force_alpha=True................................\n",
      "[CV 9/20; 6/8] END .alpha=0.6, force_alpha=True;, score=0.813 total time=   1.2s\n",
      "[CV 10/20; 6/8] START alpha=0.6, force_alpha=True...............................\n",
      "[CV 10/20; 6/8] END alpha=0.6, force_alpha=True;, score=0.812 total time=   1.2s\n",
      "[CV 11/20; 6/8] START alpha=0.6, force_alpha=True...............................\n",
      "[CV 11/20; 6/8] END alpha=0.6, force_alpha=True;, score=0.821 total time=   1.2s\n",
      "[CV 12/20; 6/8] START alpha=0.6, force_alpha=True...............................\n",
      "[CV 12/20; 6/8] END alpha=0.6, force_alpha=True;, score=0.820 total time=   1.2s\n",
      "[CV 13/20; 6/8] START alpha=0.6, force_alpha=True...............................\n",
      "[CV 13/20; 6/8] END alpha=0.6, force_alpha=True;, score=0.820 total time=   1.2s\n",
      "[CV 14/20; 6/8] START alpha=0.6, force_alpha=True...............................\n",
      "[CV 14/20; 6/8] END alpha=0.6, force_alpha=True;, score=0.813 total time=   1.2s\n",
      "[CV 15/20; 6/8] START alpha=0.6, force_alpha=True...............................\n",
      "[CV 15/20; 6/8] END alpha=0.6, force_alpha=True;, score=0.820 total time=   1.2s\n",
      "[CV 16/20; 6/8] START alpha=0.6, force_alpha=True...............................\n",
      "[CV 16/20; 6/8] END alpha=0.6, force_alpha=True;, score=0.821 total time=   1.2s\n",
      "[CV 17/20; 6/8] START alpha=0.6, force_alpha=True...............................\n",
      "[CV 17/20; 6/8] END alpha=0.6, force_alpha=True;, score=0.815 total time=   1.2s\n",
      "[CV 18/20; 6/8] START alpha=0.6, force_alpha=True...............................\n",
      "[CV 18/20; 6/8] END alpha=0.6, force_alpha=True;, score=0.817 total time=   1.2s\n",
      "[CV 19/20; 6/8] START alpha=0.6, force_alpha=True...............................\n",
      "[CV 19/20; 6/8] END alpha=0.6, force_alpha=True;, score=0.815 total time=   1.2s\n",
      "[CV 20/20; 6/8] START alpha=0.6, force_alpha=True...............................\n",
      "[CV 20/20; 6/8] END alpha=0.6, force_alpha=True;, score=0.811 total time=   1.2s\n",
      "[CV 1/20; 7/8] START alpha=0.8, force_alpha=True................................\n",
      "[CV 1/20; 7/8] END .alpha=0.8, force_alpha=True;, score=0.812 total time=   1.2s\n",
      "[CV 2/20; 7/8] START alpha=0.8, force_alpha=True................................\n"
     ]
    },
    {
     "name": "stdout",
     "output_type": "stream",
     "text": [
      "[CV 2/20; 7/8] END .alpha=0.8, force_alpha=True;, score=0.817 total time=   1.3s\n",
      "[CV 3/20; 7/8] START alpha=0.8, force_alpha=True................................\n",
      "[CV 3/20; 7/8] END .alpha=0.8, force_alpha=True;, score=0.822 total time=   1.3s\n",
      "[CV 4/20; 7/8] START alpha=0.8, force_alpha=True................................\n",
      "[CV 4/20; 7/8] END .alpha=0.8, force_alpha=True;, score=0.827 total time=   1.3s\n",
      "[CV 5/20; 7/8] START alpha=0.8, force_alpha=True................................\n",
      "[CV 5/20; 7/8] END .alpha=0.8, force_alpha=True;, score=0.831 total time=   1.3s\n",
      "[CV 6/20; 7/8] START alpha=0.8, force_alpha=True................................\n",
      "[CV 6/20; 7/8] END .alpha=0.8, force_alpha=True;, score=0.818 total time=   1.3s\n",
      "[CV 7/20; 7/8] START alpha=0.8, force_alpha=True................................\n",
      "[CV 7/20; 7/8] END .alpha=0.8, force_alpha=True;, score=0.805 total time=   1.3s\n",
      "[CV 8/20; 7/8] START alpha=0.8, force_alpha=True................................\n",
      "[CV 8/20; 7/8] END .alpha=0.8, force_alpha=True;, score=0.816 total time=   1.3s\n",
      "[CV 9/20; 7/8] START alpha=0.8, force_alpha=True................................\n",
      "[CV 9/20; 7/8] END .alpha=0.8, force_alpha=True;, score=0.813 total time=   1.3s\n",
      "[CV 10/20; 7/8] START alpha=0.8, force_alpha=True...............................\n",
      "[CV 10/20; 7/8] END alpha=0.8, force_alpha=True;, score=0.812 total time=   1.3s\n",
      "[CV 11/20; 7/8] START alpha=0.8, force_alpha=True...............................\n",
      "[CV 11/20; 7/8] END alpha=0.8, force_alpha=True;, score=0.821 total time=   1.2s\n",
      "[CV 12/20; 7/8] START alpha=0.8, force_alpha=True...............................\n",
      "[CV 12/20; 7/8] END alpha=0.8, force_alpha=True;, score=0.820 total time=   1.2s\n",
      "[CV 13/20; 7/8] START alpha=0.8, force_alpha=True...............................\n",
      "[CV 13/20; 7/8] END alpha=0.8, force_alpha=True;, score=0.819 total time=   1.2s\n",
      "[CV 14/20; 7/8] START alpha=0.8, force_alpha=True...............................\n",
      "[CV 14/20; 7/8] END alpha=0.8, force_alpha=True;, score=0.812 total time=   1.3s\n",
      "[CV 15/20; 7/8] START alpha=0.8, force_alpha=True...............................\n",
      "[CV 15/20; 7/8] END alpha=0.8, force_alpha=True;, score=0.820 total time=   1.2s\n",
      "[CV 16/20; 7/8] START alpha=0.8, force_alpha=True...............................\n",
      "[CV 16/20; 7/8] END alpha=0.8, force_alpha=True;, score=0.822 total time=   1.2s\n",
      "[CV 17/20; 7/8] START alpha=0.8, force_alpha=True...............................\n",
      "[CV 17/20; 7/8] END alpha=0.8, force_alpha=True;, score=0.815 total time=   1.2s\n",
      "[CV 18/20; 7/8] START alpha=0.8, force_alpha=True...............................\n",
      "[CV 18/20; 7/8] END alpha=0.8, force_alpha=True;, score=0.817 total time=   1.2s\n",
      "[CV 19/20; 7/8] START alpha=0.8, force_alpha=True...............................\n",
      "[CV 19/20; 7/8] END alpha=0.8, force_alpha=True;, score=0.815 total time=   1.2s\n",
      "[CV 20/20; 7/8] START alpha=0.8, force_alpha=True...............................\n",
      "[CV 20/20; 7/8] END alpha=0.8, force_alpha=True;, score=0.811 total time=   1.2s\n",
      "[CV 1/20; 8/8] START alpha=1, force_alpha=True..................................\n",
      "[CV 1/20; 8/8] END ...alpha=1, force_alpha=True;, score=0.812 total time=   1.2s\n",
      "[CV 2/20; 8/8] START alpha=1, force_alpha=True..................................\n",
      "[CV 2/20; 8/8] END ...alpha=1, force_alpha=True;, score=0.817 total time=   1.2s\n",
      "[CV 3/20; 8/8] START alpha=1, force_alpha=True..................................\n",
      "[CV 3/20; 8/8] END ...alpha=1, force_alpha=True;, score=0.821 total time=   1.2s\n",
      "[CV 4/20; 8/8] START alpha=1, force_alpha=True..................................\n",
      "[CV 4/20; 8/8] END ...alpha=1, force_alpha=True;, score=0.827 total time=   1.2s\n",
      "[CV 5/20; 8/8] START alpha=1, force_alpha=True..................................\n",
      "[CV 5/20; 8/8] END ...alpha=1, force_alpha=True;, score=0.831 total time=   1.2s\n",
      "[CV 6/20; 8/8] START alpha=1, force_alpha=True..................................\n",
      "[CV 6/20; 8/8] END ...alpha=1, force_alpha=True;, score=0.819 total time=   1.2s\n",
      "[CV 7/20; 8/8] START alpha=1, force_alpha=True..................................\n",
      "[CV 7/20; 8/8] END ...alpha=1, force_alpha=True;, score=0.805 total time=   1.2s\n",
      "[CV 8/20; 8/8] START alpha=1, force_alpha=True..................................\n",
      "[CV 8/20; 8/8] END ...alpha=1, force_alpha=True;, score=0.815 total time=   1.2s\n",
      "[CV 9/20; 8/8] START alpha=1, force_alpha=True..................................\n",
      "[CV 9/20; 8/8] END ...alpha=1, force_alpha=True;, score=0.813 total time=   1.2s\n",
      "[CV 10/20; 8/8] START alpha=1, force_alpha=True.................................\n",
      "[CV 10/20; 8/8] END ..alpha=1, force_alpha=True;, score=0.812 total time=   1.2s\n",
      "[CV 11/20; 8/8] START alpha=1, force_alpha=True.................................\n",
      "[CV 11/20; 8/8] END ..alpha=1, force_alpha=True;, score=0.821 total time=   1.2s\n",
      "[CV 12/20; 8/8] START alpha=1, force_alpha=True.................................\n",
      "[CV 12/20; 8/8] END ..alpha=1, force_alpha=True;, score=0.820 total time=   1.2s\n",
      "[CV 13/20; 8/8] START alpha=1, force_alpha=True.................................\n",
      "[CV 13/20; 8/8] END ..alpha=1, force_alpha=True;, score=0.819 total time=   1.2s\n",
      "[CV 14/20; 8/8] START alpha=1, force_alpha=True.................................\n",
      "[CV 14/20; 8/8] END ..alpha=1, force_alpha=True;, score=0.813 total time=   1.3s\n",
      "[CV 15/20; 8/8] START alpha=1, force_alpha=True.................................\n",
      "[CV 15/20; 8/8] END ..alpha=1, force_alpha=True;, score=0.820 total time=   1.3s\n",
      "[CV 16/20; 8/8] START alpha=1, force_alpha=True.................................\n",
      "[CV 16/20; 8/8] END ..alpha=1, force_alpha=True;, score=0.822 total time=   1.2s\n",
      "[CV 17/20; 8/8] START alpha=1, force_alpha=True.................................\n",
      "[CV 17/20; 8/8] END ..alpha=1, force_alpha=True;, score=0.815 total time=   1.2s\n",
      "[CV 18/20; 8/8] START alpha=1, force_alpha=True.................................\n",
      "[CV 18/20; 8/8] END ..alpha=1, force_alpha=True;, score=0.816 total time=   1.3s\n",
      "[CV 19/20; 8/8] START alpha=1, force_alpha=True.................................\n",
      "[CV 19/20; 8/8] END ..alpha=1, force_alpha=True;, score=0.815 total time=   1.2s\n",
      "[CV 20/20; 8/8] START alpha=1, force_alpha=True.................................\n",
      "[CV 20/20; 8/8] END ..alpha=1, force_alpha=True;, score=0.810 total time=   1.2s\n"
     ]
    },
    {
     "data": {
      "text/html": [
       "<style>#sk-container-id-1 {color: black;}#sk-container-id-1 pre{padding: 0;}#sk-container-id-1 div.sk-toggleable {background-color: white;}#sk-container-id-1 label.sk-toggleable__label {cursor: pointer;display: block;width: 100%;margin-bottom: 0;padding: 0.3em;box-sizing: border-box;text-align: center;}#sk-container-id-1 label.sk-toggleable__label-arrow:before {content: \"▸\";float: left;margin-right: 0.25em;color: #696969;}#sk-container-id-1 label.sk-toggleable__label-arrow:hover:before {color: black;}#sk-container-id-1 div.sk-estimator:hover label.sk-toggleable__label-arrow:before {color: black;}#sk-container-id-1 div.sk-toggleable__content {max-height: 0;max-width: 0;overflow: hidden;text-align: left;background-color: #f0f8ff;}#sk-container-id-1 div.sk-toggleable__content pre {margin: 0.2em;color: black;border-radius: 0.25em;background-color: #f0f8ff;}#sk-container-id-1 input.sk-toggleable__control:checked~div.sk-toggleable__content {max-height: 200px;max-width: 100%;overflow: auto;}#sk-container-id-1 input.sk-toggleable__control:checked~label.sk-toggleable__label-arrow:before {content: \"▾\";}#sk-container-id-1 div.sk-estimator input.sk-toggleable__control:checked~label.sk-toggleable__label {background-color: #d4ebff;}#sk-container-id-1 div.sk-label input.sk-toggleable__control:checked~label.sk-toggleable__label {background-color: #d4ebff;}#sk-container-id-1 input.sk-hidden--visually {border: 0;clip: rect(1px 1px 1px 1px);clip: rect(1px, 1px, 1px, 1px);height: 1px;margin: -1px;overflow: hidden;padding: 0;position: absolute;width: 1px;}#sk-container-id-1 div.sk-estimator {font-family: monospace;background-color: #f0f8ff;border: 1px dotted black;border-radius: 0.25em;box-sizing: border-box;margin-bottom: 0.5em;}#sk-container-id-1 div.sk-estimator:hover {background-color: #d4ebff;}#sk-container-id-1 div.sk-parallel-item::after {content: \"\";width: 100%;border-bottom: 1px solid gray;flex-grow: 1;}#sk-container-id-1 div.sk-label:hover label.sk-toggleable__label {background-color: #d4ebff;}#sk-container-id-1 div.sk-serial::before {content: \"\";position: absolute;border-left: 1px solid gray;box-sizing: border-box;top: 0;bottom: 0;left: 50%;z-index: 0;}#sk-container-id-1 div.sk-serial {display: flex;flex-direction: column;align-items: center;background-color: white;padding-right: 0.2em;padding-left: 0.2em;position: relative;}#sk-container-id-1 div.sk-item {position: relative;z-index: 1;}#sk-container-id-1 div.sk-parallel {display: flex;align-items: stretch;justify-content: center;background-color: white;position: relative;}#sk-container-id-1 div.sk-item::before, #sk-container-id-1 div.sk-parallel-item::before {content: \"\";position: absolute;border-left: 1px solid gray;box-sizing: border-box;top: 0;bottom: 0;left: 50%;z-index: -1;}#sk-container-id-1 div.sk-parallel-item {display: flex;flex-direction: column;z-index: 1;position: relative;background-color: white;}#sk-container-id-1 div.sk-parallel-item:first-child::after {align-self: flex-end;width: 50%;}#sk-container-id-1 div.sk-parallel-item:last-child::after {align-self: flex-start;width: 50%;}#sk-container-id-1 div.sk-parallel-item:only-child::after {width: 0;}#sk-container-id-1 div.sk-dashed-wrapped {border: 1px dashed gray;margin: 0 0.4em 0.5em 0.4em;box-sizing: border-box;padding-bottom: 0.4em;background-color: white;}#sk-container-id-1 div.sk-label label {font-family: monospace;font-weight: bold;display: inline-block;line-height: 1.2em;}#sk-container-id-1 div.sk-label-container {text-align: center;}#sk-container-id-1 div.sk-container {/* jupyter's `normalize.less` sets `[hidden] { display: none; }` but bootstrap.min.css set `[hidden] { display: none !important; }` so we also need the `!important` here to be able to override the default hidden behavior on the sphinx rendered scikit-learn.org. See: https://github.com/scikit-learn/scikit-learn/issues/21755 */display: inline-block !important;position: relative;}#sk-container-id-1 div.sk-text-repr-fallback {display: none;}</style><div id=\"sk-container-id-1\" class=\"sk-top-container\"><div class=\"sk-text-repr-fallback\"><pre>GridSearchCV(cv=20, estimator=MultinomialNB(),\n",
       "             param_grid={&#x27;alpha&#x27;: [0, 0.0001, 0.01, 0.2, 0.4, 0.6, 0.8, 1],\n",
       "                         &#x27;force_alpha&#x27;: [True]},\n",
       "             verbose=10)</pre><b>In a Jupyter environment, please rerun this cell to show the HTML representation or trust the notebook. <br />On GitHub, the HTML representation is unable to render, please try loading this page with nbviewer.org.</b></div><div class=\"sk-container\" hidden><div class=\"sk-item sk-dashed-wrapped\"><div class=\"sk-label-container\"><div class=\"sk-label sk-toggleable\"><input class=\"sk-toggleable__control sk-hidden--visually\" id=\"sk-estimator-id-1\" type=\"checkbox\" ><label for=\"sk-estimator-id-1\" class=\"sk-toggleable__label sk-toggleable__label-arrow\">GridSearchCV</label><div class=\"sk-toggleable__content\"><pre>GridSearchCV(cv=20, estimator=MultinomialNB(),\n",
       "             param_grid={&#x27;alpha&#x27;: [0, 0.0001, 0.01, 0.2, 0.4, 0.6, 0.8, 1],\n",
       "                         &#x27;force_alpha&#x27;: [True]},\n",
       "             verbose=10)</pre></div></div></div><div class=\"sk-parallel\"><div class=\"sk-parallel-item\"><div class=\"sk-item\"><div class=\"sk-label-container\"><div class=\"sk-label sk-toggleable\"><input class=\"sk-toggleable__control sk-hidden--visually\" id=\"sk-estimator-id-2\" type=\"checkbox\" ><label for=\"sk-estimator-id-2\" class=\"sk-toggleable__label sk-toggleable__label-arrow\">estimator: MultinomialNB</label><div class=\"sk-toggleable__content\"><pre>MultinomialNB()</pre></div></div></div><div class=\"sk-serial\"><div class=\"sk-item\"><div class=\"sk-estimator sk-toggleable\"><input class=\"sk-toggleable__control sk-hidden--visually\" id=\"sk-estimator-id-3\" type=\"checkbox\" ><label for=\"sk-estimator-id-3\" class=\"sk-toggleable__label sk-toggleable__label-arrow\">MultinomialNB</label><div class=\"sk-toggleable__content\"><pre>MultinomialNB()</pre></div></div></div></div></div></div></div></div></div></div>"
      ],
      "text/plain": [
       "GridSearchCV(cv=20, estimator=MultinomialNB(),\n",
       "             param_grid={'alpha': [0, 0.0001, 0.01, 0.2, 0.4, 0.6, 0.8, 1],\n",
       "                         'force_alpha': [True]},\n",
       "             verbose=10)"
      ]
     },
     "execution_count": 18,
     "metadata": {},
     "output_type": "execute_result"
    }
   ],
   "source": [
    "estimator = MultinomialNB()\n",
    "\n",
    "grid_search = GridSearchCV(estimator = estimator, param_grid = tuning_params, \n",
    "                          cv = 20, verbose = 10)\n",
    "\n",
    "grid_search.fit(X_train, y_train)"
   ]
  },
  {
   "cell_type": "code",
   "execution_count": 19,
   "id": "79664ef5",
   "metadata": {},
   "outputs": [
    {
     "data": {
      "text/plain": [
       "{'alpha': 0.0001, 'force_alpha': True}"
      ]
     },
     "execution_count": 19,
     "metadata": {},
     "output_type": "execute_result"
    }
   ],
   "source": [
    "grid_search.best_params_"
   ]
  },
  {
   "cell_type": "code",
   "execution_count": 20,
   "id": "0e220ea5",
   "metadata": {},
   "outputs": [],
   "source": [
    "best_classifier = MultinomialNB(alpha = 0.0001, force_alpha = True)\n",
    "best_classifier.fit(X_train, y_train)\n",
    "\n",
    "y_pred = best_classifier.predict(X_test)"
   ]
  },
  {
   "cell_type": "code",
   "execution_count": 21,
   "id": "7320d846",
   "metadata": {},
   "outputs": [
    {
     "data": {
      "text/plain": [
       "0.820831461795678"
      ]
     },
     "execution_count": 21,
     "metadata": {},
     "output_type": "execute_result"
    }
   ],
   "source": [
    "accuracy_score(y_test, y_pred)"
   ]
  },
  {
   "cell_type": "code",
   "execution_count": 22,
   "id": "3b8c3ceb",
   "metadata": {},
   "outputs": [
    {
     "data": {
      "text/plain": [
       "Text(0.5, 1.0, 'Confusion Matrix for Random Forest Model')"
      ]
     },
     "execution_count": 22,
     "metadata": {},
     "output_type": "execute_result"
    },
    {
     "data": {
      "image/png": "[encoded data removed]",
      "text/plain": [
       "<Figure size 1600x700 with 2 Axes>"
      ]
     },
     "metadata": {},
     "output_type": "display_data"
    }
   ],
   "source": [
    "matrix = confusion_matrix(y_test, y_pred)\n",
    "matrix = matrix.astype('float') / matrix.sum(axis=1)[:, np.newaxis]\n",
    "\n",
    "# Build the plot\n",
    "plt.figure(figsize=(16,7))\n",
    "sns.set(font_scale=1.4)\n",
    "sns.heatmap(matrix, annot=True, annot_kws={'size':10},\n",
    "            cmap=plt.cm.Greens, linewidths=0.2)\n",
    "\n",
    "class_names = ['0', '1']\n",
    "tick_marks = np.arange(len(class_names)) +0.5\n",
    "tick_marks2 = tick_marks\n",
    "plt.xticks(tick_marks, class_names, rotation=0)\n",
    "plt.yticks(tick_marks2, class_names, rotation=0)\n",
    "plt.xlabel('Predicted label')\n",
    "plt.ylabel('True label')\n",
    "plt.title('Confusion Matrix for Random Forest Model')"
   ]
  },
  {
   "cell_type": "code",
   "execution_count": null,
   "id": "5f5d5e31",
   "metadata": {},
   "outputs": [],
   "source": []
  }
 ],
 "metadata": {
  "kernelspec": {
   "display_name": "Python 3 (ipykernel)",
   "language": "python",
   "name": "python3"
  },
  "language_info": {
   "codemirror_mode": {
    "name": "ipython",
    "version": 3
   },
   "file_extension": ".py",
   "mimetype": "text/x-python",
   "name": "python",
   "nbconvert_exporter": "python",
   "pygments_lexer": "ipython3",
   "version": "3.11.4"
  }
 },
 "nbformat": 4,
 "nbformat_minor": 5
}
